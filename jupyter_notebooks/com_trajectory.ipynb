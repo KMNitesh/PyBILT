{
 "cells": [
  {
   "cell_type": "markdown",
   "metadata": {},
   "source": [
    "# Center of mass trajectory and analysis"
   ]
  },
  {
   "cell_type": "markdown",
   "metadata": {},
   "source": [
    "The pybilt.com_trajectory package contains the COMTraj module which defines the COMTraj class that can be used to build a Center of Mass (COM) version of an MDAnalysis trajectory. There are various analyses that can be performed using this type of representation. Some examples that are built in to the module will be demonstrated later in this document. "
   ]
  },
  {
   "cell_type": "markdown",
   "metadata": {},
   "source": [
    "To begin we will import the modules we'll use."
   ]
  },
  {
   "cell_type": "code",
   "execution_count": 1,
   "metadata": {},
   "outputs": [
    {
     "name": "stderr",
     "output_type": "stream",
     "text": [
      "/home/blake/anaconda2/envs/pybilt/lib/python2.7/site-packages/MDAnalysis/due.py:88: UserWarning: No module named mock\n",
      "  warnings.warn(str(err))\n"
     ]
    }
   ],
   "source": [
    "#MDAnalysis 0.15.0\n",
    "import MDAnalysis as mda\n",
    "#The COMTraj module\n",
    "from pybilt.com_trajectory import COMTraj\n",
    "#Plotting Functions \n",
    "%matplotlib inline\n",
    "import pybilt.plot_generation.plot_generation_functions as pgf"
   ]
  },
  {
   "cell_type": "code",
   "execution_count": 2,
   "metadata": {},
   "outputs": [],
   "source": [
    "# Update the matplotlib rcParams used by pgf plots\n",
    "params = {'figure.figsize': [4.75, 3.25], 'font.size': 12, 'axes.labelsize': 12,\n",
    "    'legend.fontsize': 12,\n",
    "    'xtick.labelsize': 12,\n",
    "    'ytick.labelsize': 12,\n",
    "    'lines.linewidth': 2.0,\n",
    "    'lines.markersize': 10,\n",
    "    'mathtext.fontset' : 'cm'}\n",
    "pgf.update_rcparams(params)"
   ]
  },
  {
   "cell_type": "markdown",
   "metadata": {},
   "source": [
    "Now we can construct the MDAnalysis universe object using the test bilayer system provided with PyBILT (located in PyBILT/pybilt/sample_bilayer)."
   ]
  },
  {
   "cell_type": "code",
   "execution_count": 3,
   "metadata": {},
   "outputs": [],
   "source": [
    "u = mda.Universe('../pybilt/sample_bilayer/sample_bilayer.psf','../pybilt/sample_bilayer/sample_bilayer_10frames.dcd')"
   ]
  },
  {
   "cell_type": "markdown",
   "metadata": {},
   "source": [
    "Now we need to select the bilayer atoms.\n"
   ]
  },
  {
   "cell_type": "code",
   "execution_count": 4,
   "metadata": {},
   "outputs": [],
   "source": [
    "bilayer = u.select_atoms(\"resname POPC DOPE TLCL2\")"
   ]
  },
  {
   "cell_type": "markdown",
   "metadata": {},
   "source": [
    "And now we can build the COMTraj object."
   ]
  },
  {
   "cell_type": "code",
   "execution_count": 5,
   "metadata": {},
   "outputs": [
    {
     "name": "stdout",
     "output_type": "stream",
     "text": [
      "doing full trajectory frame  0 , COM trajectory frame  0\n",
      "time  0.0\n",
      "doing full trajectory frame  1 , COM trajectory frame  1\n",
      "time  0.04888821\n",
      "doing full trajectory frame  2 , COM trajectory frame  2\n",
      "time  0.09777642\n",
      "doing full trajectory frame  3 , COM trajectory frame  3\n",
      "time  0.14666463\n",
      "doing full trajectory frame  4 , COM trajectory frame  4\n",
      "time  0.19555284\n",
      "doing full trajectory frame  5 , COM trajectory frame  5\n",
      "time  0.24444105\n",
      "doing full trajectory frame  6 , COM trajectory frame  6\n",
      "time  0.29332926\n",
      "doing full trajectory frame  7 , COM trajectory frame  7\n",
      "time  0.34221747\n",
      "doing full trajectory frame  8 , COM trajectory frame  8\n",
      "time  0.39110568\n",
      "doing full trajectory frame  9 , COM trajectory frame  9\n",
      "time  0.43999389\n"
     ]
    }
   ],
   "source": [
    "com_traj = COMTraj.COMTraj(u.trajectory, bilayer)"
   ]
  },
  {
   "cell_type": "code",
   "execution_count": 6,
   "metadata": {},
   "outputs": [
    {
     "name": "stdout",
     "output_type": "stream",
     "text": [
      "Center of mass trajectory with 10 frames and 600 lipids/components\n"
     ]
    }
   ],
   "source": [
    "print(com_traj)"
   ]
  },
  {
   "cell_type": "markdown",
   "metadata": {},
   "source": [
    "The COMTraj initializer reqiures the MDAnalysis trajectory object and an atom selection object. There are some optional keyword arguments, such as 'frame_path', which can can set. 'frame_path' defines a non-default location where the COM trajectory data will be stored on disk. The com trajectory can be left saved on disk after the session by also setting the 'frame_save' flag to True. "
   ]
  },
  {
   "cell_type": "markdown",
   "metadata": {},
   "source": [
    "By default the the xy plane is assumed to be the lateral dimension of the bilayer, and the z direction is assumed to be along the bilayer normal. However, these can be specified at initialization via the 'plane' input variable string if your bilayer has a different orientation. "
   ]
  },
  {
   "cell_type": "code",
   "execution_count": 7,
   "metadata": {},
   "outputs": [
    {
     "name": "stdout",
     "output_type": "stream",
     "text": [
      "doing full trajectory frame  0 , COM trajectory frame  0\n",
      "time  0.0\n",
      "doing full trajectory frame  1 , COM trajectory frame  1\n",
      "time  0.04888821\n",
      "doing full trajectory frame  2 , COM trajectory frame  2\n",
      "time  0.09777642\n",
      "doing full trajectory frame  3 , COM trajectory frame  3\n",
      "time  0.14666463\n",
      "doing full trajectory frame  4 , COM trajectory frame  4\n",
      "time  0.19555284\n",
      "doing full trajectory frame  5 , COM trajectory frame  5\n",
      "time  0.24444105\n",
      "doing full trajectory frame  6 , COM trajectory frame  6\n",
      "time  0.29332926\n",
      "doing full trajectory frame  7 , COM trajectory frame  7\n",
      "time  0.34221747\n",
      "doing full trajectory frame  8 , COM trajectory frame  8\n",
      "time  0.39110568\n",
      "doing full trajectory frame  9 , COM trajectory frame  9\n",
      "time  0.43999389\n"
     ]
    }
   ],
   "source": [
    "# Re-initialize, but specify the lateral plane\n",
    "com_traj_b = COMTraj.COMTraj(u.trajectory, bilayer, plane='xy')"
   ]
  },
  {
   "cell_type": "markdown",
   "metadata": {},
   "source": [
    "The options for specifying the lateral plane are 'xy' (the default), 'yz', and 'xz', or their equivalents 'yx', 'zy', and 'zx'. "
   ]
  },
  {
   "cell_type": "markdown",
   "metadata": {},
   "source": [
    "### Frames\n",
    "The COMTraj object is composed of COM 'Frame' objects stored in a specialized 'FrameShelve' container under the 'frame' member variable."
   ]
  },
  {
   "cell_type": "code",
   "execution_count": 8,
   "metadata": {},
   "outputs": [
    {
     "name": "stdout",
     "output_type": "stream",
     "text": [
      "<pybilt.com_trajectory.COMTraj.FrameShelve object at 0x7f64cded3210>\n",
      "<pybilt.com_trajectory.COMTraj.Frame object at 0x7f64c5289b90>\n"
     ]
    }
   ],
   "source": [
    "print(com_traj.frame)\n",
    "print(com_traj.frame[0])"
   ]
  },
  {
   "cell_type": "markdown",
   "metadata": {},
   "source": [
    "The FrameShelve object stores the COM Frame's of the trajectory on disc using the Shelve module (https://docs.python.org/2/library/shelve.html). We can check the number of frames stored in the object either by accessing the 'nframes' member variable of the com_traj instance or by using len on the 'frame' variable."
   ]
  },
  {
   "cell_type": "code",
   "execution_count": 9,
   "metadata": {},
   "outputs": [
    {
     "name": "stdout",
     "output_type": "stream",
     "text": [
      "10\n",
      "10\n"
     ]
    }
   ],
   "source": [
    "print(com_traj.nframes)\n",
    "print(len(com_traj.frame))"
   ]
  },
  {
   "cell_type": "markdown",
   "metadata": {},
   "source": [
    "Individual frames can accessed by indexing the 'com_traj.frame' variable."
   ]
  },
  {
   "cell_type": "code",
   "execution_count": 10,
   "metadata": {},
   "outputs": [
    {
     "name": "stdout",
     "output_type": "stream",
     "text": [
      "<pybilt.com_trajectory.COMTraj.Frame object at 0x7f64c5238050>\n"
     ]
    }
   ],
   "source": [
    "print com_traj.frame[0]"
   ]
  },
  {
   "cell_type": "code",
   "execution_count": 11,
   "metadata": {},
   "outputs": [
    {
     "name": "stdout",
     "output_type": "stream",
     "text": [
      "600\n"
     ]
    }
   ],
   "source": [
    "#len returns the number COMs (or lipids) in the Frame instance.\n",
    "print len(com_traj.frame[0])"
   ]
  },
  {
   "cell_type": "markdown",
   "metadata": {},
   "source": [
    "Although the frames can be indexed individully, there are some built in analyses that automatically handle looping over frames and doing their specific computations. However, there are times when indexing the frames is necessary, such as in defining custom analyses. "
   ]
  },
  {
   "cell_type": "markdown",
   "metadata": {},
   "source": [
    "### Leaflets\n",
    "The next major component of the COMTraj class instance is the 'leaflets' member variable. This is a dictionary with two keys: 'upper' and 'lower'. "
   ]
  },
  {
   "cell_type": "code",
   "execution_count": 12,
   "metadata": {},
   "outputs": [
    {
     "name": "stdout",
     "output_type": "stream",
     "text": [
      "{'upper': upper leaflet of a Center of mass trajectory with 300 members and 3 lipid groups, 'lower': lower leaflet of a Center of mass trajectory with 300 members and 3 lipid groups}\n"
     ]
    }
   ],
   "source": [
    "print com_traj.leaflets"
   ]
  },
  {
   "cell_type": "markdown",
   "metadata": {},
   "source": [
    "When the COMTraj class instance is initialized it automatically uses the first frame to sort the lipids into an 'upper' and 'lower' leaflet. "
   ]
  },
  {
   "cell_type": "markdown",
   "metadata": {},
   "source": [
    "###### Note:\n",
    "The average position along the bilayer normal is currently used to divide the leaflets, so if you are working with highly curved bilayers this process will likely be inaccurate (functionality to handle this problem is the topic of future development). "
   ]
  },
  {
   "cell_type": "markdown",
   "metadata": {},
   "source": [
    "The indivdiual leafleat objects stored in the dictionary contain information about the number of lipids in that leaflet, as well as the types of lipids (assigned by their MDAnalysis resname). "
   ]
  },
  {
   "cell_type": "code",
   "execution_count": 13,
   "metadata": {},
   "outputs": [
    {
     "name": "stdout",
     "output_type": "stream",
     "text": [
      "upper leaflet of a Center of mass trajectory with 300 members and 3 lipid groups\n"
     ]
    }
   ],
   "source": [
    "#Access the 'upper' leaflet\n",
    "print com_traj.leaflets['upper']"
   ]
  },
  {
   "cell_type": "code",
   "execution_count": 14,
   "metadata": {},
   "outputs": [
    {
     "name": "stdout",
     "output_type": "stream",
     "text": [
      "['POPC', 'TLCL2', 'DOPE']\n"
     ]
    }
   ],
   "source": [
    "# Check the types of lipids in that leaflet\n",
    "print com_traj.leaflets['upper'].get_group_names()"
   ]
  },
  {
   "cell_type": "markdown",
   "metadata": {},
   "source": [
    "The leaflets construct allows many analyses, such as Mean Squared Displacement (MSD), to be performed on a per leaflet level. The grouping construct stored in the leaflet then allows for per lipid type analysis. "
   ]
  },
  {
   "cell_type": "markdown",
   "metadata": {},
   "source": [
    "### Example anlysis- Mean Squared Displacement (MSD)\n",
    "As an example let's go ahead and look at computing some MSDs. "
   ]
  },
  {
   "cell_type": "code",
   "execution_count": 15,
   "metadata": {},
   "outputs": [
    {
     "name": "stdout",
     "output_type": "stream",
     "text": [
      "[[ 0.          0.        ]\n",
      " [ 0.04888821  0.57014543]\n",
      " [ 0.09777642  0.83566515]\n",
      " [ 0.14666463  0.9216467 ]\n",
      " [ 0.19555284  1.11987873]\n",
      " [ 0.24444105  1.32089826]\n",
      " [ 0.29332926  1.55354826]\n",
      " [ 0.34221747  1.91665934]\n",
      " [ 0.39110568  2.10194152]\n",
      " [ 0.43999389  2.35802145]]\n"
     ]
    }
   ],
   "source": [
    "# compute the global MSD (2d MSD in the lateral dimensions of the bilayer)\n",
    "msd_global = com_traj.calc_msd()\n",
    "print msd_global"
   ]
  },
  {
   "cell_type": "markdown",
   "metadata": {},
   "source": [
    "The calc_msd function returns a nframesx2 numpy array of the time series MSD values. The left column is the simulation time and the right is the MSD value (averaged over all the lipids, no time averaging).\n",
    "Now we can take advantage of the leaflet and grouping structure to compute the MSD of specific groupings of the lipids."
   ]
  },
  {
   "cell_type": "code",
   "execution_count": 16,
   "metadata": {},
   "outputs": [],
   "source": [
    "#MSD for the upper leaflet\n",
    "msd_upper = com_traj.calc_msd(leaflet='upper')\n",
    "#MSD for the lower leaflet\n",
    "msd_lower = com_traj.calc_msd(leaflet='lower')\n",
    "#MSD for POPC (in both leaflets)\n",
    "msd_popc = com_traj.calc_msd(group='POPC')\n",
    "#MSD for DOPE in the upper leaflet\n",
    "msd_dope_upper = com_traj.calc_msd(leaflet='upper', group='DOPE')"
   ]
  },
  {
   "cell_type": "markdown",
   "metadata": {},
   "source": [
    "Now let's plot these data. We'll use the template plotting function 'plot_msd' in plot_generation_functions."
   ]
  },
  {
   "cell_type": "code",
   "execution_count": 17,
   "metadata": {},
   "outputs": [
    {
     "data": {
      "image/png": "[encoded data removed]",
      "text/plain": [
       "<Figure size 342x234 with 1 Axes>"
      ]
     },
     "metadata": {
      "needs_background": "light"
     },
     "output_type": "display_data"
    }
   ],
   "source": [
    "#plot the MSD data\n",
    "pgf.plot_msd([msd_global, msd_upper, msd_lower, msd_popc, msd_dope_upper], \n",
    "             name_list=['Global','Upper','Lower','POPC','DOPE Upper'],\n",
    "             show=True, save=False, time_out='ps')"
   ]
  },
  {
   "cell_type": "markdown",
   "metadata": {},
   "source": [
    "There is also a multithreaded version of the MSD computation that is provided. This version parallelizes the loop over the frames, so is very helpful when the trajectory is large and their are a lot frames."
   ]
  },
  {
   "cell_type": "code",
   "execution_count": 18,
   "metadata": {},
   "outputs": [
    {
     "name": "stdout",
     "output_type": "stream",
     "text": [
      "<function msd_frames at 0x7f64d75d6050>\n"
     ]
    }
   ],
   "source": [
    "#compute MSD for POPC using multithreaded version\n",
    "print(COMTraj.msd_frames)\n",
    "msd_popc_mt = com_traj.calc_msd_parallel(group='POPC', nprocs=2)"
   ]
  },
  {
   "cell_type": "code",
   "execution_count": 19,
   "metadata": {},
   "outputs": [
    {
     "data": {
      "image/png": "[encoded data removed]",
      "text/plain": [
       "<Figure size 342x234 with 1 Axes>"
      ]
     },
     "metadata": {
      "needs_background": "light"
     },
     "output_type": "display_data"
    }
   ],
   "source": [
    "#Now plot\n",
    "pgf.plot_msd([msd_popc, msd_popc_mt], name_list=['Single','Multi'], time_out='ps', save=False, show=True)"
   ]
  },
  {
   "cell_type": "markdown",
   "metadata": {},
   "source": [
    "### Examples of some other included anlayses"
   ]
  },
  {
   "cell_type": "markdown",
   "metadata": {},
   "source": [
    "##### Area Per Lipid\n",
    "The COMTraj class object has two built-in estimators of the area per lipid. One simply uses the box size data from the trajectory and the number of lipids to estimate the area per lipid, which is accurate for homogenous bilayers. "
   ]
  },
  {
   "cell_type": "code",
   "execution_count": 20,
   "metadata": {},
   "outputs": [],
   "source": [
    "#Area per lipid using box size\n",
    "apl_box = com_traj.calc_area_per_lipid_box(leaflet=\"both\")"
   ]
  },
  {
   "cell_type": "code",
   "execution_count": 21,
   "metadata": {},
   "outputs": [
    {
     "name": "stdout",
     "output_type": "stream",
     "text": [
      "[[  0.00000000e+00   7.42801931e+01   7.42801931e+01   0.00000000e+00]\n",
      " [  4.88882100e-02   7.44916480e+01   7.43859205e+01   1.49521247e-01]\n",
      " [  9.77764200e-02   7.41724311e+01   7.43147574e+01   1.62391147e-01]\n",
      " [  1.46664630e-01   7.41914761e+01   7.42839371e+01   1.46219549e-01]\n",
      " [  1.95552840e-01   7.43717284e+01   7.43014953e+01   1.32576697e-01]\n",
      " [  2.44441050e-01   7.45077683e+01   7.43358742e+01   1.45439635e-01]\n",
      " [  2.93329260e-01   7.42973232e+01   7.43303669e+01   1.33564782e-01]\n",
      " [  3.42217470e-01   7.43610013e+01   7.43341962e+01   1.24130383e-01]\n",
      " [  3.91105680e-01   7.43570966e+01   7.43367407e+01   1.16363989e-01]\n",
      " [  4.39993890e-01   7.45120268e+01   7.43542693e+01   1.22917010e-01]]\n"
     ]
    }
   ],
   "source": [
    "print(apl_box)"
   ]
  },
  {
   "cell_type": "markdown",
   "metadata": {},
   "source": [
    "However, for heterogeneous bilayers it is effectively the composite average over all lipid types, and doesn't give us any information about the area occupied by a specific lipid type.\n",
    "\n",
    "Therefore a another estimator is provided that allows us to do the calculation by lipid type, and although this function is a more expensive computation, it allows for a rough estimation of per lipid type values.  "
   ]
  },
  {
   "cell_type": "code",
   "execution_count": 22,
   "metadata": {},
   "outputs": [],
   "source": [
    "#Area per lipid using nearest neighbor distances\n",
    "apl_nnd = com_traj.calc_area_per_lipid_closest_neighbor_circle(leaflet=\"both\", group=\"all\")"
   ]
  },
  {
   "cell_type": "code",
   "execution_count": 23,
   "metadata": {},
   "outputs": [],
   "source": [
    "#Area per lipid for POPC\n",
    "apl_nnd_popc = com_traj.calc_area_per_lipid_closest_neighbor_circle(leaflet=\"both\", group=\"POPC\")\n",
    "#Area per lipid for DOPE\n",
    "apl_nnd_dope = com_traj.calc_area_per_lipid_closest_neighbor_circle(leaflet=\"both\", group=\"DOPE\")"
   ]
  },
  {
   "cell_type": "markdown",
   "metadata": {},
   "source": [
    "Let's plot the values for comparison."
   ]
  },
  {
   "cell_type": "code",
   "execution_count": 24,
   "metadata": {},
   "outputs": [
    {
     "data": {
      "image/png": "[encoded data removed]",
      "text/plain": [
       "<Figure size 342x234 with 1 Axes>"
      ]
     },
     "metadata": {
      "needs_background": "light"
     },
     "output_type": "display_data"
    }
   ],
   "source": [
    "#Plot using template function\n",
    "pgf.plot_area_per_lipid([apl_box,apl_nnd,apl_nnd_popc, apl_nnd_dope],name_list=['Box','NND','NND-POPC','NND-DOPE'], time_out='ps',show=True, save=False)"
   ]
  },
  {
   "cell_type": "markdown",
   "metadata": {},
   "source": [
    "For more accurate area per lipid estimations we reccommend using the gridding objects in the pybilt.lipid_grid package. Here's a brief example:"
   ]
  },
  {
   "cell_type": "code",
   "execution_count": 25,
   "metadata": {},
   "outputs": [],
   "source": [
    "from pybilt.lipid_grid.lipid_grid_opt import LipidGrids"
   ]
  },
  {
   "cell_type": "code",
   "execution_count": 26,
   "metadata": {},
   "outputs": [
    {
     "name": "stdout",
     "output_type": "stream",
     "text": [
      "('frame: ', 0, ' composite APL: ', 74.280193052851445, ' partial for POPC: ', 71.679853782897609, ' DOPE: ', 70.797852243162069)\n",
      "('frame: ', 1, ' composite APL: ', 74.491648028902688, ' partial for POPC: ', 71.61389164571986, ' DOPE: ', 71.152080835687826)\n",
      "('frame: ', 2, ' composite APL: ', 74.172431081685531, ' partial for POPC: ', 71.441435459801767, ' DOPE: ', 70.755955302654115)\n",
      "('frame: ', 3, ' composite APL: ', 74.191476139520091, ' partial for POPC: ', 71.429898551513148, ' DOPE: ', 71.078266323157933)\n",
      "('frame: ', 4, ' composite APL: ', 74.371728395205807, ' partial for POPC: ', 71.513581405584432, ' DOPE: ', 70.946072730406229)\n",
      "('frame: ', 5, ' composite APL: ', 74.507768309166067, ' partial for POPC: ', 71.464344492886937, ' DOPE: ', 71.50346222441857)\n",
      "('frame: ', 6, ' composite APL: ', 74.29732316024689, ' partial for POPC: ', 71.591652433783807, ' DOPE: ', 70.296398175689362)\n",
      "('frame: ', 7, ' composite APL: ', 74.36100129308889, ' partial for POPC: ', 71.353521491141152, ' DOPE: ', 70.844388284278835)\n",
      "('frame: ', 8, ' composite APL: ', 74.35709657688929, ' partial for POPC: ', 71.709143972967922, ' DOPE: ', 70.535846073938245)\n",
      "('frame: ', 9, ' composite APL: ', 74.512026787598899, ' partial for POPC: ', 71.618478214604167, ' DOPE: ', 71.263183169137932)\n"
     ]
    }
   ],
   "source": [
    "for frame_idx in range(com_traj.nframes):\n",
    "    lgs = LipidGrids(com_traj.frame[frame_idx], com_traj.leaflets, [0,1], area_per_bin=5.0)\n",
    "    apl_vals = lgs.area_per_lipid()\n",
    "    print(\"frame: \",frame_idx, \" composite APL: \",apl_vals[0], \" partial for POPC: \", apl_vals[1]['POPC'][0], \" DOPE: \", apl_vals[1]['DOPE'][0])\n",
    "    "
   ]
  },
  {
   "cell_type": "markdown",
   "metadata": {},
   "source": [
    "###### Note:\n",
    "In cases with lipids like cardiolipin which have multiple headgroups it may be more accurate to count both headgroups when estimating the APL rather than a single COM bead. The COMTRaj object does not offer this functionality, but a version of this feature is available via the BilayerAnalyzer class (and the 'multi_bead' rep_setting). "
   ]
  },
  {
   "cell_type": "markdown",
   "metadata": {},
   "source": [
    "#### Step/Displacement Vectors and Flow Maps"
   ]
  },
  {
   "cell_type": "markdown",
   "metadata": {},
   "source": [
    "Another type of analysis/visualization we can do is create flow maps, which are constructed from displacements of the lipid COMs over intervals of time. This analysis is based on the work of Falck et al. (http://pubs.acs.org/doi/abs/10.1021/ja7103558)."
   ]
  },
  {
   "cell_type": "code",
   "execution_count": 27,
   "metadata": {},
   "outputs": [],
   "source": [
    "#compute the displacement vectors (in the lateral dimension) of the upper leaflet\n",
    "disp_vecs = com_traj.step_vector(leaflet='upper',group='all',fstart=0,fend=-1,fstep=2,wrapped=False)\n",
    "#get the colors to use for plotting\n",
    "disp_vec_colors = com_traj.step_vector_colors(leaflet='upper', group='all')"
   ]
  },
  {
   "cell_type": "markdown",
   "metadata": {},
   "source": [
    "'disp_vecs' is a list of data needed to produce the flow map. The length of the list is the number of intervals computed. "
   ]
  },
  {
   "cell_type": "code",
   "execution_count": 28,
   "metadata": {},
   "outputs": [
    {
     "name": "stdout",
     "output_type": "stream",
     "text": [
      "4\n"
     ]
    }
   ],
   "source": [
    "print(len(disp_vecs))"
   ]
  },
  {
   "cell_type": "code",
   "execution_count": 29,
   "metadata": {},
   "outputs": [
    {
     "name": "stdout",
     "output_type": "stream",
     "text": [
      "[[ -0.14125526   4.12947139  -1.19199     -0.64882991]\n",
      " [ -4.09419135  10.51957597   0.85952306   0.11020866]\n",
      " [  8.07438791  -2.31697149  -0.72596856   1.06088139]\n",
      " ..., \n",
      " [-73.91733114  55.07309012  -0.2282957   -0.38001494]\n",
      " [ 65.48004155  71.13093549  -0.43539311   0.27611566]\n",
      " [-61.20509723 -73.84297307  -0.51082064   0.10892904]]\n"
     ]
    }
   ],
   "source": [
    "print(disp_vecs[0])"
   ]
  },
  {
   "cell_type": "code",
   "execution_count": 30,
   "metadata": {},
   "outputs": [
    {
     "name": "stdout",
     "output_type": "stream",
     "text": [
      "(array([[  5.00000000e-01,   0.00000000e+00,   1.00000000e+00,\n",
      "          1.00000000e+00],\n",
      "       [  5.00000000e-01,   0.00000000e+00,   1.00000000e+00,\n",
      "          1.00000000e+00],\n",
      "       [  5.00000000e-01,   0.00000000e+00,   1.00000000e+00,\n",
      "          1.00000000e+00],\n",
      "       ..., \n",
      "       [  1.00000000e+00,   1.22464680e-16,   6.12323400e-17,\n",
      "          1.00000000e+00],\n",
      "       [  1.00000000e+00,   1.22464680e-16,   6.12323400e-17,\n",
      "          1.00000000e+00],\n",
      "       [  1.00000000e+00,   1.22464680e-16,   6.12323400e-17,\n",
      "          1.00000000e+00]]), {'POPC': array([ 0.5,  0. ,  1. ,  1. ]), 'TLCL2': array([ 0.50392157,  0.99998103,  0.70492555,  1.        ]), 'DOPE': array([  1.00000000e+00,   1.22464680e-16,   6.12323400e-17,\n",
      "         1.00000000e+00])})\n"
     ]
    }
   ],
   "source": [
    "print(disp_vec_colors)"
   ]
  },
  {
   "cell_type": "markdown",
   "metadata": {},
   "source": [
    "The 'disp_vec_colors' variable is a two element tuple. The first element are the color codes associated with each vector in the flow map we will generate, while the second element is a dictionary of lipid types and the color code associated with that lipid type. "
   ]
  },
  {
   "cell_type": "markdown",
   "metadata": {},
   "source": [
    "Now lets make a plot of one of the flows."
   ]
  },
  {
   "cell_type": "code",
   "execution_count": 31,
   "metadata": {},
   "outputs": [
    {
     "data": {
      "image/png": "[encoded data removed]",
      "text/plain": [
       "<Figure size 342x234 with 1 Axes>"
      ]
     },
     "metadata": {},
     "output_type": "display_data"
    }
   ],
   "source": [
    "# we need to pass one element of the list, along with the colors.\n",
    "pgf.plot_step_vectors_comtraj(disp_vecs[0], colors=disp_vec_colors[0], save=False, show=True)"
   ]
  },
  {
   "cell_type": "markdown",
   "metadata": {},
   "source": [
    "And now we generate the flow map for the next interval:"
   ]
  },
  {
   "cell_type": "code",
   "execution_count": 32,
   "metadata": {},
   "outputs": [
    {
     "data": {
      "image/png": "[encoded data removed]",
      "text/plain": [
       "<Figure size 342x234 with 1 Axes>"
      ]
     },
     "metadata": {},
     "output_type": "display_data"
    }
   ],
   "source": [
    "# we need to pass one element of the list, along with the colors.\n",
    "pgf.plot_step_vectors_comtraj(disp_vecs[1], colors=disp_vec_colors[0], save=False,show=True)"
   ]
  },
  {
   "cell_type": "markdown",
   "metadata": {},
   "source": [
    "\n"
   ]
  }
 ],
 "metadata": {
  "kernelspec": {
   "display_name": "Python 2",
   "language": "python",
   "name": "python2"
  },
  "language_info": {
   "codemirror_mode": {
    "name": "ipython",
    "version": 2
   },
   "file_extension": ".py",
   "mimetype": "text/x-python",
   "name": "python",
   "nbconvert_exporter": "python",
   "pygments_lexer": "ipython2",
   "version": "2.7.15"
  }
 },
 "nbformat": 4,
 "nbformat_minor": 1
}
