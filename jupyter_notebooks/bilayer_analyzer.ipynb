{
 "cells": [
  {
   "cell_type": "markdown",
   "metadata": {
    "collapsed": true
   },
   "source": [
    "# BilayerAnalyzer\n",
    "\n",
    "The BilayerAnalyzer class is the primary tool in the bilayer_analyzer module. It is used to construct a set analyses and (at the moment a limited set) of plot builders. The BilayerAnalyzer can be imported from the bilayer_analyzer module set:"
   ]
  },
  {
   "cell_type": "code",
   "execution_count": 1,
   "metadata": {
    "collapsed": false
   },
   "outputs": [],
   "source": [
    "#import the BilayerAnalyzer class \n",
    "from vorbilt.bilayer_analyzer.bilayer_analyzer import BilayerAnalyzer"
   ]
  },
  {
   "cell_type": "markdown",
   "metadata": {
    "collapsed": false
   },
   "source": [
    "## Constructing a BilayerAnalyzer instance\n",
    "\n",
    "We can then build an analyzer instance and construct our analysis set. The BilayerAnalyzer can be initialized in three ways.\n",
    "\n",
    "### 1. via psf_file, trajectory, and selection keyword options."
   ]
  },
  {
   "cell_type": "code",
   "execution_count": 2,
   "metadata": {
    "collapsed": false
   },
   "outputs": [
    {
     "name": "stdout",
     "output_type": "stream",
     "text": [
      "parsing inputs...\n",
      "setting up analysis protocol:\n",
      "build objects:\n",
      "mda_frame\n",
      "com_frame\n",
      "with analysis:\n",
      "Analysis: Mean squared displacement.\n",
      "  with analysis_id: msd_1 \n",
      "   and settings: \n",
      "    leaflet: both \n",
      "    resname: all \n",
      "setting up plot protocol\n",
      "('trajectory', '../vorbilt/sample_bilayer/sample_bilayer_10frames.dcd')\n",
      "('selection', 'resname POPC or resname DOPE or resname TLCL2')\n",
      "('psf', '../vorbilt/sample_bilayer/sample_bilayer.psf')\n",
      "building the MDAnalysis objects...\n"
     ]
    }
   ],
   "source": [
    "#initialize analyzer with keyword options--and default analyses\n",
    "sel_string = \"resname POPC or resname DOPE or resname TLCL2\"\n",
    "ba = BilayerAnalyzer(\n",
    "    psf_file='../vorbilt/sample_bilayer/sample_bilayer.psf',\n",
    "    trajectory='../vorbilt/sample_bilayer/sample_bilayer_10frames.dcd',\n",
    "    selection=sel_string,\n",
    ")"
   ]
  },
  {
   "cell_type": "markdown",
   "metadata": {},
   "source": [
    "This constructs an analyzer for the given structure (psf_file) and trajectory (trajectory). The selection keyword value is a MDAnalysis selection string that picks out the bilayer lipids from the rest of the system. Although a file path and name are used in this example for the 'trajectory', a list of trajectory files can also be passed to the  \n",
    "\n",
    "> Note: Athough the keyword psf_file implies that a CHARMM psf file should be used for the structure file, any valid structure file input to MDAnalysis can be used. See th [topology readers](https://pythonhosted.org/MDAnalysis/documentation_pages/topology/init.html) MDAnalysis page for more details.\n",
    "\n",
    "> Note: In addition to a filename string, the trajectory keyword argument also accepts a list of filename strings for loading multiple trajectory files.  \n",
    "\n",
    "> Note: Each lipid is assumed to be a unique residue. See the [selections](https://pythonhosted.org/MDAnalysis/documentation_pages/selections.html) page for details on making MDAnalysis selections.\n",
    "\n",
    "ba initialized with a single default mean squared displacement analysis (MSD) as shown in the std out text:\n",
    "    with analysis:\n",
    "    Analysis: Mean squared displacements\n",
    "      with analysis_id: msd_1 \n",
    "       and settings: \n",
    "        leaflet: both \n",
    "        resname: all \n",
    "The MSD analysis has the analysis_id 'msd_1'. Each analysis in the set of analyses are assigned a unique analysis_id, which is used to reference that particular analysis. And we can see that the msd_1 analysis has the settings 'leaflet' and 'resname'. Each analysis has may have settings that are initialized with pre-set defaults that(outside of this default MSD analysis) can be user specified.  "
   ]
  },
  {
   "cell_type": "markdown",
   "metadata": {},
   "source": [
    "#### Listing the valid analyses that can be added to the BilayerAnalyzer instance\n",
    "There is a set of analyses that defined and can be assigned as part of the built-in analysis protocols of a BilayerAnalyzer instance. A function in the bilayer_analyzer module is provided to print these to std out:"
   ]
  },
  {
   "cell_type": "code",
   "execution_count": 3,
   "metadata": {
    "collapsed": true
   },
   "outputs": [],
   "source": [
    "#let's import the function\n",
    "from vorbilt.bilayer_analyzer.bilayer_analyzer import print_valid_analyses"
   ]
  },
  {
   "cell_type": "markdown",
   "metadata": {},
   "source": [
    "We can call the function to get a complete list of the built-in analyses available to BilayerAnalyzer instances including the analysis_key, a short statement/description about what the analysis is, and the adjustable settings of that analysis (settings outputs of 'none' means that that analysis has no adjustable settings)."
   ]
  },
  {
   "cell_type": "code",
   "execution_count": 4,
   "metadata": {
    "collapsed": false
   },
   "outputs": [
    {
     "name": "stdout",
     "output_type": "stream",
     "text": [
      "analysis_key: ndcorr ---> Normal dimension displacement-lipid type cross correlation.\n",
      "  with settings:\n",
      "    none --> <type 'NoneType'>\n",
      "analysis_key: mass_dens ---> Mass density.\n",
      "  with settings:\n",
      "    n_bins --> <type 'int'>\n",
      "    selection_string --> <type 'str'>\n",
      "analysis_key: bilayer_thickness ---> Bilayer thickness using lipid_grid.\n",
      "  with settings:\n",
      "    none --> <type 'NoneType'>\n",
      "analysis_key: nnf ---> Lateral order nearest neighbor fraction.\n",
      "  with settings:\n",
      "    leaflet --> <type 'str'>\n",
      "    n_neighbors --> <type 'int'>\n",
      "    resname_2 --> <type 'str'>\n",
      "    resname_1 --> <type 'str'>\n",
      "analysis_key: apl_grid ---> Area per lipid using lipid_grid\n",
      "  with settings:\n",
      "    none --> <type 'NoneType'>\n",
      "analysis_key: disp_vec ---> Displacement vectors.\n",
      "  with settings:\n",
      "    leaflet --> <type 'str'>\n",
      "    resname --> <type 'str'>\n",
      "    interval --> <type 'int'>\n",
      "    wrapped --> <type 'bool'>\n",
      "analysis_key: dc_cluster ---> Distance cutoff clustering.\n",
      "  with settings:\n",
      "    resname --> <type 'str'>\n",
      "    leaflet --> <type 'str'>\n",
      "    cutoff --> <type 'float'>\n",
      "analysis_key: acm ---> Area compressibility modulus.\n",
      "  with settings:\n",
      "    temperature --> <type 'float'>\n",
      "analysis_key: msd ---> Mean squared displacement.\n",
      "  with settings:\n",
      "    leaflet --> <type 'str'>\n",
      "    resname --> <type 'str'>\n",
      "analysis_key: disp_vec ---> Displacement vector nearest neigbor correlations.\n",
      "  with settings:\n",
      "    leaflet --> <type 'str'>\n",
      "    resname --> <type 'str'>\n",
      "    interval --> <type 'int'>\n",
      "    wrapped --> <type 'bool'>\n",
      "analysis_key: disp_vec ---> Displacement vector correlation matrix.\n",
      "  with settings:\n",
      "    leaflet --> <type 'str'>\n",
      "    resname --> <type 'str'>\n",
      "    interval --> <type 'int'>\n",
      "    wrapped --> <type 'bool'>\n",
      "analysis_key: apl_box ---> Area per lipid using box dimensions.\n",
      "  with settings:\n",
      "    none --> <type 'NoneType'>\n"
     ]
    }
   ],
   "source": [
    "print_valid_analyses()"
   ]
  },
  {
   "cell_type": "markdown",
   "metadata": {},
   "source": [
    "Importantly, each type of analysis has a unique analysis_key (e.g. 'msd' and 'apl_box'). The analysis_key is used to specify the analysis type when adding analyses to the analyzer. "
   ]
  },
  {
   "cell_type": "markdown",
   "metadata": {},
   "source": [
    "#### 2. via an input file\n",
    "\n",
    "The analyzer can also be created using an input file with the necessary commands. Let's look at an example, the file 'VORBILT/tests/sample_1.in' which reads :\n",
    "> #set the structure file (psf) for the system \n",
    " \n",
    "> psf ../sample_bilayer/sample_bilayer.psf\n",
    "\n",
    "> #set the trajectory file\n",
    "\n",
    "> trajectory ../sample_bilayer/sample_bilayer_10frames.dcd\n",
    "\n",
    "> #MDAnalysis syntax selection text to select the bilayer\n",
    "\n",
    "> selection \"not resname CLA and not resname TIP3 and not resname POT\"\n",
    "\n",
    "> #define an analysis for mean squared displacement (msd): named 'msd_1'\n",
    "\n",
    "> analysis msd msd_1\n",
    "\n",
    "> #define an analysis for mean squared displacement (msd) for (resname) POPC lipids in the\n",
    "> #upper leaflet of the bilayer: named 'msd_2' \n",
    "\n",
    "> analysis msd msd_2 leaflet upper resname POPC\n",
    "\n",
    "> #define a plot for mean squared displacement data (msd) including computes 'msd_1' and \n",
    "'msd_2': named 'msd_p'\n",
    "\n",
    "> plot msd msd_p msd_1 DOPE-U msd_2 POPC-U\n"
   ]
  },
  {
   "cell_type": "markdown",
   "metadata": {},
   "source": [
    "In this input script there are five different command types that will be parsed by the analyzer during intialization. The first three 'psf', 'trajectory', and 'selection' are required (similar to their keyword counterparts in initialization 1). \n",
    "\n",
    "The other two command types used in this input script are the 'analysis' and 'plot'. 'analysis' commands are used to add analyses to the analyzers set of protocols. They hsave the basic format:\n",
    "\n",
    "> analysis analysis_key analysis_id\n",
    "\n",
    "and additionally the analysis settings can be set using the format:\n",
    "\n",
    "> analysis analysis_key analysis_id setting_key value\n",
    "\n",
    "In the same spirit the 'plot' command is used to add 'auto' plot builders to the set of protocols in the ianalyzer. \n",
    "\n",
    ">Note: Currently the plotting protocols development is behind that of the analysis protocols and therefore not all analyzer built-in analyses have corresponding built-in plot protocols. Some additional plotting tools are provided in vorbilt's plot_generation module (although many of the newer analyses that have been added don't have plot functions in this module either, so will require direct use of matplotlib (or other tool) to generate plots. \n",
    "\n",
    "The plot command has a very similar format to that of the analysis command with the type of plotting specified by a 'plot_key' and the particular plot identified with a 'plot_id'. \n",
    "The plot command in the input script for genrating MSD time series plots has the format:\n",
    "\n",
    "> plot plot_key plot_id analysis_id legend_name ...\n",
    "\n",
    "Now let's actually initialize the analyzer using the input script:"
   ]
  },
  {
   "cell_type": "code",
   "execution_count": 5,
   "metadata": {
    "collapsed": false
   },
   "outputs": [
    {
     "name": "stdout",
     "output_type": "stream",
     "text": [
      "parsing input file '../tests/sample_1.in'...\n",
      "msd msd_1\n",
      "msd msd_2 leaflet upper resname POPC\n",
      "msd msd_p msd_1 DOPE-U msd_2 POPC-U\n",
      "setting up analysis protocol:\n",
      "build objects:\n",
      "lipid_grid\n",
      "mda_frame\n",
      "com_frame\n",
      "with analysis:\n",
      "Analysis: Mean squared displacement.\n",
      "  with analysis_id: msd_1 \n",
      "   and settings: \n",
      "    leaflet: both \n",
      "    resname: all \n",
      "Analysis: Mean squared displacement.\n",
      "  with analysis_id: msd_2 \n",
      "   and settings: \n",
      "    leaflet: upper \n",
      "    resname: POPC \n",
      "setting up plot protocol\n",
      "('trajectory', '../vorbilt/sample_bilayer/sample_bilayer_10frames.dcd')\n",
      "('selection', 'not resname CLA and not resname TIP3 and not resname POT')\n",
      "('psf', '../vorbilt/sample_bilayer/sample_bilayer.psf')\n",
      "('analysis', ['msd msd_1', 'msd msd_2 leaflet upper resname POPC'])\n",
      "('plot', ['msd msd_p msd_1 DOPE-U msd_2 POPC-U'])\n",
      "building the MDAnalysis objects...\n"
     ]
    }
   ],
   "source": [
    "ba = BilayerAnalyzer(input_file=\"../tests/sample_1.in\")"
   ]
  },
  {
   "cell_type": "markdown",
   "metadata": {},
   "source": [
    "### 3. Using an input dictionary\n",
    "\n",
    "Finally, the analyzer can be initialized using an input dictionary. The dictionary should at least have the 3 required keywords 'psf_file', 'trajectory', and 'selection'"
   ]
  },
  {
   "cell_type": "code",
   "execution_count": 6,
   "metadata": {
    "collapsed": false
   },
   "outputs": [
    {
     "name": "stdout",
     "output_type": "stream",
     "text": [
      "setting up analysis protocol:\n",
      "build objects:\n",
      "lipid_grid\n",
      "mda_frame\n",
      "com_frame\n",
      "with analysis:\n",
      "Analysis: Mean squared displacement.\n",
      "  with analysis_id: msd_1 \n",
      "   and settings: \n",
      "    leaflet: both \n",
      "    resname: all \n",
      "setting up plot protocol\n",
      "('trajectory', '../vorbilt/sample_bilayer/sample_bilayer_10frames.dcd')\n",
      "('selection', 'resname POPC or resname DOPE or resname TLCL2')\n",
      "('psf', '../vorbilt/sample_bilayer/sample_bilayer.psf')\n",
      "building the MDAnalysis objects...\n"
     ]
    }
   ],
   "source": [
    "# define the input dictionary\n",
    "input_dict = {'psf' : '../vorbilt/sample_bilayer/sample_bilayer.psf', \n",
    "             'trajectory' : '../vorbilt/sample_bilayer/sample_bilayer_10frames.dcd',\n",
    "              'selection' : 'resname POPC or resname DOPE or resname TLCL2' \n",
    "             }\n",
    "\n",
    "#now initialize the analyzer\n",
    "ba = BilayerAnalyzer(input_dict=input_dict)\n",
    "\n",
    "              "
   ]
  },
  {
   "cell_type": "code",
   "execution_count": null,
   "metadata": {
    "collapsed": true
   },
   "outputs": [],
   "source": []
  }
 ],
 "metadata": {
  "kernelspec": {
   "display_name": "Python 2",
   "language": "python",
   "name": "python2"
  },
  "language_info": {
   "codemirror_mode": {
    "name": "ipython",
    "version": 2
   },
   "file_extension": ".py",
   "mimetype": "text/x-python",
   "name": "python",
   "nbconvert_exporter": "python",
   "pygments_lexer": "ipython2",
   "version": "2.7.13"
  }
 },
 "nbformat": 4,
 "nbformat_minor": 2
}
