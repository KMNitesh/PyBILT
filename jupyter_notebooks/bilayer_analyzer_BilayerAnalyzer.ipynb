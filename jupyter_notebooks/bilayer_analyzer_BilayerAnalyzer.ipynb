{
 "cells": [
  {
   "cell_type": "markdown",
   "metadata": {
    "collapsed": true
   },
   "source": [
    "# BilayerAnalyzer\n",
    "\n",
    "The BilayerAnalyzer class is the primary tool in the bilayer_analyzer module. It is used to construct a set analyses and (at the moment a limited set) of plot builders. The BilayerAnalyzer can be imported from the bilayer_analyzer module set:"
   ]
  },
  {
   "cell_type": "code",
   "execution_count": 1,
   "metadata": {
    "collapsed": false
   },
   "outputs": [],
   "source": [
    "#import the BilayerAnalyzer class \n",
    "from pybilt.bilayer_analyzer import BilayerAnalyzer"
   ]
  },
  {
   "cell_type": "markdown",
   "metadata": {
    "collapsed": false
   },
   "source": [
    "## Constructing a BilayerAnalyzer instance\n",
    "\n",
    "We can then build an analyzer instance and construct our analysis set. The BilayerAnalyzer can be initialized in three ways.\n",
    "\n",
    "### 1. via psf_file, trajectory, and selection keyword options."
   ]
  },
  {
   "cell_type": "code",
   "execution_count": 2,
   "metadata": {
    "collapsed": false
   },
   "outputs": [
    {
     "name": "stdout",
     "output_type": "stream",
     "text": [
      "parsing inputs...\n",
      "setting up analysis protocol:\n",
      "build objects:\n",
      "mda_frame\n",
      "com_frame\n",
      "with analysis:\n",
      "Analysis: Single time origin mean squared displacement.\n",
      "  with analysis_id: msd_1 \n",
      "   and settings: \n",
      "    leaflet: both \n",
      "    resname: all \n",
      "setting up plot protocol\n",
      "('trajectory', '../pybilt/sample_bilayer/sample_bilayer_10frames.dcd')\n",
      "('selection', 'resname POPC or resname DOPE or resname TLCL2')\n",
      "('structure', '../pybilt/sample_bilayer/sample_bilayer.psf')\n",
      "building the MDAnalysis objects...\n",
      "['natoms', 'trajectory_file', 'mda_trajectory', 'bilayer_sel', 'n_residues', 'residues', 'nframes', 'indices', 'psf_file', 'bilayer_sel_string', 'mda_universe']\n"
     ]
    }
   ],
   "source": [
    "#initialize analyzer with keyword options--and default analyses\n",
    "sel_string = \"resname POPC or resname DOPE or resname TLCL2\"\n",
    "ba = BilayerAnalyzer(\n",
    "    structure='../pybilt/sample_bilayer/sample_bilayer.psf',\n",
    "    trajectory='../pybilt/sample_bilayer/sample_bilayer_10frames.dcd',\n",
    "    selection=sel_string,\n",
    ")"
   ]
  },
  {
   "cell_type": "markdown",
   "metadata": {},
   "source": [
    "This constructs an analyzer for the given structure (psf_file) and trajectory (trajectory). The selection keyword value is a MDAnalysis selection string that picks out the bilayer lipids from the rest of the system. Although a file path and name are used in this example for the 'trajectory', a list of trajectory files can also be passed to the analyzer.\n",
    "\n",
    "> Note: Athough the keyword psf_file implies that a CHARMM psf file should be used for the structure file, any valid structure file input to MDAnalysis can be used. See the [topology readers](https://pythonhosted.org/MDAnalysis/documentation_pages/topology/init.html) MDAnalysis page for more details.\n",
    "\n",
    "> Note: In addition to a filename string, the trajectory keyword argument also accepts a list of filename strings for loading multiple trajectory files.  \n",
    "\n",
    "> Note: Each lipid is assumed to be a unique residue within the provided selection. See the [selections](https://pythonhosted.org/MDAnalysis/documentation_pages/selections.html) page for details on making MDAnalysis selections.\n",
    "\n",
    "The BilayerAnalyzer is initialized with a single default mean squared displacement analysis (MSD) as shown in the std out text:\n",
    "    with analysis:\n",
    "    Analysis: Mean squared displacements\n",
    "      with analysis_id: msd_1 \n",
    "       and settings: \n",
    "        leaflet: both \n",
    "        resname: all \n",
    "The MSD analysis has the analysis_id 'msd_1'. Each analysis in the set of analyses are assigned a unique analysis_id, which is used to reference that particular analysis. And we can see that the msd_1 analysis has the settings 'leaflet' and 'resname'. Each analysis may have settings that are initialized with pre-set defaults that(outside of this default MSD analysis) can be user specified.  "
   ]
  },
  {
   "cell_type": "markdown",
   "metadata": {},
   "source": [
    "#### Listing the valid analyses that can be added to the BilayerAnalyzer instance\n",
    "There is a set of analyses that can be defined and assigned as part of the built-in analysis protocols of a BilayerAnalyzer instance. A function in the bilayer_analyzer module is provided to print these to std out:"
   ]
  },
  {
   "cell_type": "code",
   "execution_count": 3,
   "metadata": {
    "collapsed": true
   },
   "outputs": [],
   "source": [
    "#let's import the function\n",
    "from pybilt.bilayer_analyzer import print_valid_analyses"
   ]
  },
  {
   "cell_type": "markdown",
   "metadata": {},
   "source": [
    "We can call the function to get a complete list of the built-in analyses available to BilayerAnalyzer instances including the analysis_key, a short statement/description about what the analysis is, and the adjustable settings of that analysis (settings outputs of 'none' means that that analysis has no adjustable settings)."
   ]
  },
  {
   "cell_type": "code",
   "execution_count": 4,
   "metadata": {
    "collapsed": false
   },
   "outputs": [
    {
     "name": "stdout",
     "output_type": "stream",
     "text": [
      "analysis_key: lop ---> Lateral orientation angle.\n",
      "  with settings:\n",
      "    resname --> <type 'str'>\n",
      "    leaflet --> <type 'str'>\n",
      "    ref_atom_2 --> <type 'str'>\n",
      "    ref_atom_1 --> <type 'str'>\n",
      "analysis_key: apl_grid ---> Area per lipid using lipid_grid\n",
      "  with settings:\n",
      "    none --> <type 'NoneType'>\n",
      "analysis_key: dc_cluster ---> Distance cutoff clustering.\n",
      "  with settings:\n",
      "    resname --> <type 'str'>\n",
      "    leaflet --> <type 'str'>\n",
      "    cutoff --> <type 'float'>\n",
      "analysis_key: halperin_nelson ---> Halperin and Nelson's rotational invariant.\n",
      "  with settings:\n",
      "    leaflet --> <type 'str'>\n",
      "analysis_key: lipid_tilt ---> Estimate of lipid tilt using the lipid vectors.\n",
      "  with settings:\n",
      "    leaflet --> <type 'str'>\n",
      "    resname --> <type 'str'>\n",
      "    style --> <type 'str'>\n",
      "    ref_axis --> <type 'str'>\n",
      "analysis_key: ac ---> Isothermal area compressibility.\n",
      "  with settings:\n",
      "    temperature --> <type 'float'>\n",
      "analysis_key: apl_box ---> Area per lipid using box dimensions.\n",
      "  with settings:\n",
      "    none --> <type 'NoneType'>\n",
      "analysis_key: lipid_collinearity ---> Estimate of lipid-lipid collinearity.\n",
      "  with settings:\n",
      "    leaflet --> <type 'str'>\n",
      "    style --> <type 'str'>\n",
      "    resname_2 --> <type 'str'>\n",
      "    resname_1 --> <type 'str'>\n",
      "analysis_key: msd_multi ---> Multiple time origin mean squared displacement.\n",
      "  with settings:\n",
      "    leaflet --> <type 'str'>\n",
      "    resname --> <type 'str'>\n",
      "    n_tau --> <type 'int'>\n",
      "    n_sigma --> <type 'int'>\n",
      "analysis_key: disp_vec_nncorr ---> Displacement vector nearest neigbor correlations.\n",
      "  with settings:\n",
      "    leaflet --> <type 'str'>\n",
      "    resname --> <type 'str'>\n",
      "    interval --> <type 'int'>\n",
      "    wrapped --> <type 'bool'>\n",
      "analysis_key: vcm ---> Volume compressibility modulus.\n",
      "  with settings:\n",
      "    temperature --> <type 'float'>\n",
      "analysis_key: msd ---> Single time origin mean squared displacement.\n",
      "  with settings:\n",
      "    leaflet --> <type 'str'>\n",
      "    resname --> <type 'str'>\n",
      "analysis_key: lop ---> Lateral orientation parameter.\n",
      "  with settings:\n",
      "    resname --> <type 'str'>\n",
      "    leaflet --> <type 'str'>\n",
      "    ref_atom_2 --> <type 'str'>\n",
      "    ref_atom_1 --> <type 'str'>\n",
      "analysis_key: ndcorr ---> Normal dimension displacement-lipid type cross correlation.\n",
      "  with settings:\n",
      "    none --> <type 'NoneType'>\n",
      "analysis_key: mass_dens ---> Mass density profile.\n",
      "  with settings:\n",
      "    n_bins --> <type 'int'>\n",
      "    selection_string --> <type 'str'>\n",
      "analysis_key: bilayer_thickness ---> Bilayer thickness using lipid_grid.\n",
      "  with settings:\n",
      "    none --> <type 'NoneType'>\n",
      "analysis_key: nnf ---> Lateral order nearest neighbor fraction.\n",
      "  with settings:\n",
      "    leaflet --> <type 'str'>\n",
      "    n_neighbors --> <type 'int'>\n",
      "    resname_2 --> <type 'str'>\n",
      "    resname_1 --> <type 'str'>\n",
      "analysis_key: disp_vec ---> Displacement vectors.\n",
      "  with settings:\n",
      "    leaflet --> <type 'str'>\n",
      "    resname --> <type 'str'>\n",
      "    interval --> <type 'int'>\n",
      "    scale --> <type 'bool'>\n",
      "    wrapped --> <type 'bool'>\n",
      "analysis_key: acm ---> Area compressibility modulus.\n",
      "  with settings:\n",
      "    temperature --> <type 'float'>\n",
      "analysis_key: lipid_length ---> Estimate of lipid length using the lipid vectors.\n",
      "  with settings:\n",
      "    leaflet --> <type 'str'>\n",
      "    resname --> <type 'str'>\n",
      "analysis_key: ald ---> Average lateral displacement.\n",
      "  with settings:\n",
      "    leaflet --> <type 'str'>\n",
      "    resname --> <type 'str'>\n",
      "analysis_key: disp_vec_corr ---> Displacement vector correlation matrix.\n",
      "  with settings:\n",
      "    leaflet --> <type 'str'>\n",
      "    resname --> <type 'str'>\n",
      "    interval --> <type 'int'>\n",
      "    wrapped --> <type 'bool'>\n",
      "analysis_key: flip_flop ---> Count lipid flip flops.\n",
      "  with settings:\n",
      "    none --> <type 'NoneType'>\n"
     ]
    },
    {
     "name": "stderr",
     "output_type": "stream",
     "text": [
      "/home/blake/src/python/PyBILT/pybilt/bilayer_analyzer/analysis_protocols.py:743: UserWarning: ignoring invalid argument key analysis_id for analysisnone\n",
      "  \"ignoring invalid argument key \" + arg_key + \" for analysis\" + self.analysis_id)\n"
     ]
    }
   ],
   "source": [
    "print_valid_analyses()"
   ]
  },
  {
   "cell_type": "markdown",
   "metadata": {},
   "source": [
    "Importantly, each type of analysis has a unique analysis_key (e.g. 'msd' and 'apl_box'). The analysis_key is used to specify the analysis type when adding analyses to the analyzer. "
   ]
  },
  {
   "cell_type": "markdown",
   "metadata": {},
   "source": [
    "#### 2. via an input file\n",
    "\n",
    "The analyzer can also be created using an input file with the necessary commands. Let's look at an example: the file 'PyBILT/tests/sample_1.in' which reads :\n",
    "> \\#set the structure file (psf) for the system \n",
    " \n",
    "> structure ../sample_bilayer/sample_bilayer.psf\n",
    "\n",
    "> \\#set the trajectory file\n",
    "\n",
    "> trajectory ../sample_bilayer/sample_bilayer_10frames.dcd\n",
    "\n",
    "> \\#MDAnalysis syntax selection text to select the bilayer\n",
    "\n",
    "> selection \"not resname CLA and not resname TIP3 and not resname POT\"\n",
    "\n",
    "> \\#define an analysis for mean squared displacement (msd): named 'msd_1'\n",
    "\n",
    "> analysis msd msd_1\n",
    "\n",
    "> \\#define an analysis for mean squared displacement (msd) for (resname) POPC lipids in the\n",
    "> \\#upper leaflet of the bilayer: named 'msd_2' \n",
    "\n",
    "> analysis msd msd_2 leaflet upper resname POPC\n",
    "\n",
    "> \\#define a plot for mean squared displacement data (msd) including computes 'msd_1' and \n",
    "'msd_2': named 'msd_p'\n",
    "\n",
    "> plot msd msd_p msd_1 DOPE-U msd_2 POPC-U\n"
   ]
  },
  {
   "cell_type": "markdown",
   "metadata": {},
   "source": [
    "In this input script there are five different command types that will be parsed by the analyzer during intialization. The first three 'psf', 'trajectory', and 'selection' are required (similar to their keyword counterparts in initialization 1). \n",
    "\n",
    "The other two command types used in this input script are the 'analysis' and 'plot'. 'analysis' commands are used to add analyses to the analyzers set of protocols. They have the basic format:\n",
    "\n",
    "> analysis analysis_key analysis_id\n",
    "\n",
    "and additionally the analysis settings can be set using the format:\n",
    "\n",
    "> analysis analysis_key analysis_id setting_key value\n",
    "\n",
    "In the same spirit the 'plot' command is used to add 'auto' plot builders to the set of protocols in the ianalyzer. \n",
    "\n",
    ">Note: Currently the plotting protocols development is behind that of the analysis protocols and therefore not all analyzer built-in analyses have corresponding built-in plot protocols. Some additional plotting tools are provided in pybilt's plot_generation module (although many of the newer analyses that have been added don't have plot functions in this module either, so will require direct use of matplotlib (or other tool) to generate plots. \n",
    "\n",
    "The plot command has a very similar format to that of the analysis command with the type of plotting specified by a 'plot_key' and the particular plot identified with a 'plot_id'. \n",
    "The plot command in the input script for genrating MSD time series plots has the format:\n",
    "\n",
    "> plot plot_key plot_id analysis_id legend_name ...\n",
    "\n",
    "Now let's actually initialize the analyzer using the input script:"
   ]
  },
  {
   "cell_type": "code",
   "execution_count": 5,
   "metadata": {
    "collapsed": false
   },
   "outputs": [
    {
     "name": "stdout",
     "output_type": "stream",
     "text": [
      "parsing input file '../tests/sample_1.in'...\n",
      "msd msd_1\n",
      "msd msd_2 leaflet upper resname POPC\n",
      "msd msd_p msd_1 DOPE-U msd_2 POPC-U\n",
      "setting up analysis protocol:\n",
      "build objects:\n",
      "lipid_grid\n",
      "vector_frame\n",
      "mda_frame\n",
      "com_frame\n",
      "with analysis:\n",
      "Analysis: Single time origin mean squared displacement.\n",
      "  with analysis_id: msd_1 \n",
      "   and settings: \n",
      "    leaflet: both \n",
      "    resname: all \n",
      "Analysis: Single time origin mean squared displacement.\n",
      "  with analysis_id: msd_2 \n",
      "   and settings: \n",
      "    leaflet: upper \n",
      "    resname: POPC \n",
      "setting up plot protocol\n",
      "('trajectory', '../pybilt/sample_bilayer/sample_bilayer_10frames.dcd')\n",
      "('selection', 'resname POPC DOPE TLCL2')\n",
      "('analysis', ['msd msd_1', 'msd msd_2 leaflet upper resname POPC'])\n",
      "('structure', '../pybilt/sample_bilayer/sample_bilayer.psf')\n",
      "('plot', ['msd msd_p msd_1 DOPE-U msd_2 POPC-U'])\n",
      "building the MDAnalysis objects...\n",
      "['natoms', 'trajectory_file', 'mda_trajectory', 'bilayer_sel', 'n_residues', 'residues', 'nframes', 'indices', 'psf_file', 'bilayer_sel_string', 'mda_universe']\n"
     ]
    }
   ],
   "source": [
    "ba = BilayerAnalyzer(input_file=\"../tests/sample_1.in\")"
   ]
  },
  {
   "cell_type": "markdown",
   "metadata": {},
   "source": [
    "### 3. Using an input dictionary\n",
    "\n",
    "Finally, the analyzer can be initialized using an input dictionary. The dictionary should at least have the 3 required keywords 'psf_file', 'trajectory', and 'selection'"
   ]
  },
  {
   "cell_type": "code",
   "execution_count": 6,
   "metadata": {
    "collapsed": false
   },
   "outputs": [
    {
     "name": "stdout",
     "output_type": "stream",
     "text": [
      "setting up analysis protocol:\n",
      "build objects:\n",
      "lipid_grid\n",
      "vector_frame\n",
      "mda_frame\n",
      "com_frame\n",
      "with analysis:\n",
      "Analysis: Single time origin mean squared displacement.\n",
      "  with analysis_id: msd_1 \n",
      "   and settings: \n",
      "    leaflet: both \n",
      "    resname: all \n",
      "setting up plot protocol\n",
      "('trajectory', '../pybilt/sample_bilayer/sample_bilayer_10frames.dcd')\n",
      "('selection', 'resname POPC or resname DOPE or resname TLCL2')\n",
      "('structure', '../pybilt/sample_bilayer/sample_bilayer.psf')\n",
      "building the MDAnalysis objects...\n",
      "['natoms', 'trajectory_file', 'mda_trajectory', 'bilayer_sel', 'n_residues', 'residues', 'nframes', 'indices', 'psf_file', 'bilayer_sel_string', 'mda_universe']\n"
     ]
    }
   ],
   "source": [
    "# define the input dictionary\n",
    "input_dict = {'structure' : '../pybilt/sample_bilayer/sample_bilayer.psf', \n",
    "             'trajectory' : '../pybilt/sample_bilayer/sample_bilayer_10frames.dcd',\n",
    "              'selection' : 'resname POPC or resname DOPE or resname TLCL2' \n",
    "             }\n",
    "\n",
    "#now initialize the analyzer\n",
    "ba = BilayerAnalyzer(input_dict=input_dict)\n",
    "\n",
    "              "
   ]
  },
  {
   "cell_type": "markdown",
   "metadata": {},
   "source": [
    "We can also use the input dictionary to initialize the analyzer with analysis and plot protocols."
   ]
  },
  {
   "cell_type": "code",
   "execution_count": 7,
   "metadata": {
    "collapsed": false
   },
   "outputs": [
    {
     "name": "stdout",
     "output_type": "stream",
     "text": [
      "setting up analysis protocol:\n",
      "build objects:\n",
      "lipid_grid\n",
      "vector_frame\n",
      "mda_frame\n",
      "com_frame\n",
      "with analysis:\n",
      "Analysis: Single time origin mean squared displacement.\n",
      "  with analysis_id: msd_1 \n",
      "   and settings: \n",
      "    leaflet: both \n",
      "    resname: POPC \n",
      "Analysis: Single time origin mean squared displacement.\n",
      "  with analysis_id: msd_2 \n",
      "   and settings: \n",
      "    leaflet: both \n",
      "    resname: DOPE \n",
      "setting up plot protocol\n",
      "('trajectory', '../pybilt/sample_bilayer/sample_bilayer_10frames.dcd')\n",
      "('selection', 'resname POPC or resname DOPE or resname TLCL2')\n",
      "('structure', '../pybilt/sample_bilayer/sample_bilayer.psf')\n",
      "('analysis', ['msd msd_1 resname POPC', 'msd msd_2 resname DOPE'])\n",
      "('plot', ['msd msd_p msd_1 POPC msd_2 DOPE'])\n",
      "building the MDAnalysis objects...\n",
      "['natoms', 'trajectory_file', 'mda_trajectory', 'bilayer_sel', 'n_residues', 'residues', 'nframes', 'indices', 'psf_file', 'bilayer_sel_string', 'mda_universe']\n"
     ]
    }
   ],
   "source": [
    "# define the input dictionary\n",
    "input_dict = {'structure' : '../pybilt/sample_bilayer/sample_bilayer.psf', \n",
    "             'trajectory' : '../pybilt/sample_bilayer/sample_bilayer_10frames.dcd',\n",
    "              'selection' : 'resname POPC or resname DOPE or resname TLCL2',\n",
    "              'analysis' : ['msd msd_1 resname POPC', 'msd msd_2 resname DOPE'],\n",
    "              'plot' : ['msd msd_p msd_1 POPC msd_2 DOPE']\n",
    "             }\n",
    "\n",
    "#now initialize the analyzer\n",
    "ba = BilayerAnalyzer(input_dict=input_dict)"
   ]
  },
  {
   "cell_type": "markdown",
   "metadata": {},
   "source": [
    "### Adding and removing analyses (post initialization)\n",
    "\n",
    "Analyses can be added to the analyzer using the add_analysis function.\n",
    "\n",
    "First, let's list the analyses that are present in the analyzer."
   ]
  },
  {
   "cell_type": "code",
   "execution_count": 8,
   "metadata": {
    "collapsed": false
   },
   "outputs": [
    {
     "name": "stdout",
     "output_type": "stream",
     "text": [
      "build objects:\n",
      "lipid_grid\n",
      "vector_frame\n",
      "mda_frame\n",
      "com_frame\n",
      "with analysis:\n",
      "Analysis: Single time origin mean squared displacement.\n",
      "  with analysis_id: msd_1 \n",
      "   and settings: \n",
      "    leaflet: both \n",
      "    resname: POPC \n",
      "Analysis: Single time origin mean squared displacement.\n",
      "  with analysis_id: msd_2 \n",
      "   and settings: \n",
      "    leaflet: both \n",
      "    resname: DOPE \n"
     ]
    }
   ],
   "source": [
    "ba.print_analysis_protocol()"
   ]
  },
  {
   "cell_type": "markdown",
   "metadata": {},
   "source": [
    "As we can see from the output there are two analyses: msd_1 and msd_2. Both are MSD computations; one is for POPC lipids and the other is for DOPE lipids. Now let's add an MSD analysis for the TLCL2 lipids using the string format. "
   ]
  },
  {
   "cell_type": "code",
   "execution_count": 9,
   "metadata": {
    "collapsed": false
   },
   "outputs": [
    {
     "name": "stdout",
     "output_type": "stream",
     "text": [
      "build objects:\n",
      "lipid_grid\n",
      "vector_frame\n",
      "mda_frame\n",
      "com_frame\n",
      "with analysis:\n",
      "Analysis: Single time origin mean squared displacement.\n",
      "  with analysis_id: msd_1 \n",
      "   and settings: \n",
      "    leaflet: both \n",
      "    resname: POPC \n",
      "Analysis: Single time origin mean squared displacement.\n",
      "  with analysis_id: msd_2 \n",
      "   and settings: \n",
      "    leaflet: both \n",
      "    resname: DOPE \n",
      "Analysis: Single time origin mean squared displacement.\n",
      "  with analysis_id: msd_3 \n",
      "   and settings: \n",
      "    leaflet: both \n",
      "    resname: TLCL2 \n"
     ]
    }
   ],
   "source": [
    "#add the new analysis -- using an input string\n",
    "ba.add_analysis('msd msd_3 resname TLCL2')\n",
    "#now reprint the analysis protocols\n",
    "ba.print_analysis_protocol()"
   ]
  },
  {
   "cell_type": "markdown",
   "metadata": {},
   "source": [
    "Analyses can be added using three formats: string, list/tuple, and a dictionary. We've seen the string format above, which is similar to the format used in an input initialization file/script. Now let's add some analyses using the other two options. "
   ]
  },
  {
   "cell_type": "code",
   "execution_count": 10,
   "metadata": {
    "collapsed": false
   },
   "outputs": [],
   "source": [
    "# add bilayer thickness analysis using a list -- bilayer_thickness\n",
    "#  has no settings so we just pass an empty dictionary as the third element\n",
    "ba.add_analysis(['bilayer_thickness', 'bt', {}])\n",
    "# add area compressibility modulus computation using a dictionary\n",
    "ba.add_analysis({'analysis_key': 'acm', 'analysis_id': 'acomp',\n",
    "                 'analysis_settings':{'temperature':310.0}})"
   ]
  },
  {
   "cell_type": "markdown",
   "metadata": {},
   "source": [
    "The must contain three elements: analysis_key string, analysis_id string, and settings dictionary. If the analysis has no adjustable settings, or if you just want to use the defaults, you can pass in empty dictionary.\n",
    "\n",
    "The dictionary must have three keys: 'analysis_key', 'analysis_id', and 'analysis_settings'. Similar to the list, if the analysis has no adjustable settings, or if you just want to use the defaults, you can pass in empty dictionary as the value for 'analysis_settings'.\n",
    "\n",
    "Now to remove analyses we can use the remove_analysis function with the anlysis_id of the particular analysis that is to be removed."
   ]
  },
  {
   "cell_type": "code",
   "execution_count": 11,
   "metadata": {
    "collapsed": false
   },
   "outputs": [
    {
     "name": "stdout",
     "output_type": "stream",
     "text": [
      "build objects:\n",
      "lipid_grid\n",
      "vector_frame\n",
      "mda_frame\n",
      "com_frame\n",
      "with analysis:\n",
      "Analysis: Single time origin mean squared displacement.\n",
      "  with analysis_id: msd_1 \n",
      "   and settings: \n",
      "    leaflet: both \n",
      "    resname: POPC \n",
      "Analysis: Single time origin mean squared displacement.\n",
      "  with analysis_id: msd_2 \n",
      "   and settings: \n",
      "    leaflet: both \n",
      "    resname: DOPE \n",
      "Analysis: Single time origin mean squared displacement.\n",
      "  with analysis_id: msd_3 \n",
      "   and settings: \n",
      "    leaflet: both \n",
      "    resname: TLCL2 \n",
      "Analysis: Bilayer thickness using lipid_grid.\n",
      "  with analysis_id: bt \n",
      "   and settings: \n",
      "    none: None \n",
      "Analysis: Area compressibility modulus.\n",
      "  with analysis_id: acomp \n",
      "   and settings: \n",
      "    temperature: 310.0 \n",
      "\n",
      " ---- after removal ---- \n",
      "\n",
      "build objects:\n",
      "lipid_grid\n",
      "vector_frame\n",
      "mda_frame\n",
      "com_frame\n",
      "with analysis:\n",
      "Analysis: Single time origin mean squared displacement.\n",
      "  with analysis_id: msd_1 \n",
      "   and settings: \n",
      "    leaflet: both \n",
      "    resname: POPC \n",
      "Analysis: Single time origin mean squared displacement.\n",
      "  with analysis_id: msd_2 \n",
      "   and settings: \n",
      "    leaflet: both \n",
      "    resname: DOPE \n",
      "Analysis: Single time origin mean squared displacement.\n",
      "  with analysis_id: msd_3 \n",
      "   and settings: \n",
      "    leaflet: both \n",
      "    resname: TLCL2 \n",
      "Analysis: Bilayer thickness using lipid_grid.\n",
      "  with analysis_id: bt \n",
      "   and settings: \n",
      "    none: None \n"
     ]
    }
   ],
   "source": [
    "# print the protocols\n",
    "ba.print_analysis_protocol()\n",
    "#remove the area compressibilty modulus analysis\n",
    "ba.remove_analysis('acomp')\n",
    "print(\"\\n ---- after removal ---- \\n\")\n",
    "#reprint the protocols\n",
    "ba.print_analysis_protocol()"
   ]
  },
  {
   "cell_type": "markdown",
   "metadata": {},
   "source": [
    "### Adding and removing plots to the analyzer\n",
    "\n",
    "Similar to the analyses, plots can be added to the analysis using an 'add_plot' function. However, the add_plot function currently only accepts an input string.\n",
    "\n",
    "First lets list the availble plot protocols."
   ]
  },
  {
   "cell_type": "code",
   "execution_count": 12,
   "metadata": {
    "collapsed": false
   },
   "outputs": [
    {
     "name": "stdout",
     "output_type": "stream",
     "text": [
      "['msd', 'apl', 'bilayer_thickness']\n"
     ]
    }
   ],
   "source": [
    "# import the function from the bilayer analyzer module\n",
    "from pybilt.bilayer_analyzer import print_available_plots\n",
    "\n",
    "print_available_plots()"
   ]
  },
  {
   "cell_type": "markdown",
   "metadata": {},
   "source": [
    "and let's double check what plots are in the analyzer. "
   ]
  },
  {
   "cell_type": "code",
   "execution_count": 13,
   "metadata": {
    "collapsed": false
   },
   "outputs": [
    {
     "name": "stdout",
     "output_type": "stream",
     "text": [
      "with plots:\n",
      "Plot msd_p for MSD analysis:['msd_1', 'msd_2']\n"
     ]
    }
   ],
   "source": [
    "ba.print_plot_protocol()"
   ]
  },
  {
   "cell_type": "markdown",
   "metadata": {},
   "source": [
    "Now we can add some more plots."
   ]
  },
  {
   "cell_type": "code",
   "execution_count": 14,
   "metadata": {
    "collapsed": false
   },
   "outputs": [
    {
     "name": "stdout",
     "output_type": "stream",
     "text": [
      "with plots:\n",
      "Plot msd_p for MSD analysis:['msd_1', 'msd_2']\n",
      "Plot msd_all for MSD analysis:['msd_1', 'msd_2', 'msd_3']\n",
      "Plot bt_p for bilayer thickness analysis: ['bt']\n"
     ]
    }
   ],
   "source": [
    "# add an MSD plot\n",
    "ba.add_plot('msd msd_all msd_1 POPC msd_2 DOPE msd_3 CL')\n",
    "#add a bilayer thickness plot\n",
    "ba.add_plot('bilayer_thickness bt_p bt NONE')\n",
    "# print the plot protocols\n",
    "ba.print_plot_protocol()"
   ]
  },
  {
   "cell_type": "markdown",
   "metadata": {},
   "source": [
    "Let's remove the extra MSD plot 'msd_p'."
   ]
  },
  {
   "cell_type": "code",
   "execution_count": 15,
   "metadata": {
    "collapsed": false
   },
   "outputs": [
    {
     "name": "stdout",
     "output_type": "stream",
     "text": [
      "with plots:\n",
      "Plot msd_all for MSD analysis:['msd_1', 'msd_2', 'msd_3']\n",
      "Plot bt_p for bilayer thickness analysis: ['bt']\n"
     ]
    }
   ],
   "source": [
    "#remove msd_p plot from the analyzer\n",
    "ba.remove_plot('msd_p')\n",
    "# print the plot protocols\n",
    "ba.print_plot_protocol()"
   ]
  },
  {
   "cell_type": "markdown",
   "metadata": {},
   "source": [
    "### Running the analyses on the trajectory\n",
    "\n",
    "Once we have all analyses added to the analyzer, we can run the analyses. There are two options for running the analyses.\n",
    "\n",
    "#### 1. run_analysis function\n",
    "\n",
    "The first way to initiate the analyses is using the run_analysis function"
   ]
  },
  {
   "cell_type": "code",
   "execution_count": 16,
   "metadata": {
    "collapsed": false
   },
   "outputs": [
    {
     "name": "stdout",
     "output_type": "stream",
     "text": [
      "Frame: 0\n",
      "  analysis: msd_1\n",
      "  analysis: msd_2\n",
      "  analysis: msd_3\n",
      "  analysis: bt\n",
      " \n",
      "Frame: 5\n",
      "  analysis: msd_1\n",
      "  analysis: msd_2\n",
      "  analysis: msd_3\n",
      "  analysis: bt\n",
      " \n"
     ]
    }
   ],
   "source": [
    "ba.run_analysis()"
   ]
  },
  {
   "cell_type": "markdown",
   "metadata": {},
   "source": [
    "#### 2. analyzer iterator\n",
    "\n",
    "The second way to run the analyses is to iterate over the analyzer"
   ]
  },
  {
   "cell_type": "code",
   "execution_count": 17,
   "metadata": {
    "collapsed": false
   },
   "outputs": [
    {
     "name": "stdout",
     "output_type": "stream",
     "text": [
      "Frame: 0\n",
      "  analysis: msd_1\n",
      "  analysis: msd_2\n",
      "  analysis: msd_3\n",
      "  analysis: bt\n",
      " \n",
      "COMFrame for frame 0 with 600 lipids\n",
      "< Timestep 0 with unit cell dimensions [ 149.27845764  149.27845764   72.39289856   90.           90.           90.        ] >\n",
      " \n",
      "COMFrame for frame 1 with 600 lipids\n",
      "< Timestep 0 with unit cell dimensions [ 149.27845764  149.27845764   72.39289856   90.           90.           90.        ] >\n",
      " \n",
      "COMFrame for frame 2 with 600 lipids\n",
      "< Timestep 0 with unit cell dimensions [ 149.27845764  149.27845764   72.39289856   90.           90.           90.        ] >\n",
      " \n",
      "COMFrame for frame 3 with 600 lipids\n",
      "< Timestep 0 with unit cell dimensions [ 149.27845764  149.27845764   72.39289856   90.           90.           90.        ] >\n",
      " \n",
      "COMFrame for frame 4 with 600 lipids\n",
      "< Timestep 0 with unit cell dimensions [ 149.27845764  149.27845764   72.39289856   90.           90.           90.        ] >\n",
      " \n",
      "Frame: 5\n",
      "  analysis: msd_1\n",
      "  analysis: msd_2\n",
      "  analysis: msd_3\n",
      "  analysis: bt\n",
      " \n",
      "COMFrame for frame 5 with 600 lipids\n",
      "< Timestep 0 with unit cell dimensions [ 149.27845764  149.27845764   72.39289856   90.           90.           90.        ] >\n",
      " \n",
      "COMFrame for frame 6 with 600 lipids\n",
      "< Timestep 0 with unit cell dimensions [ 149.27845764  149.27845764   72.39289856   90.           90.           90.        ] >\n",
      " \n",
      "COMFrame for frame 7 with 600 lipids\n",
      "< Timestep 0 with unit cell dimensions [ 149.27845764  149.27845764   72.39289856   90.           90.           90.        ] >\n",
      " \n",
      "COMFrame for frame 8 with 600 lipids\n",
      "< Timestep 0 with unit cell dimensions [ 149.27845764  149.27845764   72.39289856   90.           90.           90.        ] >\n",
      " \n",
      "COMFrame for frame 9 with 600 lipids\n",
      "< Timestep 0 with unit cell dimensions [ 149.27845764  149.27845764   72.39289856   90.           90.           90.        ] >\n",
      " \n"
     ]
    }
   ],
   "source": [
    "# first we need to reset the analyzer before rerunning the analyses\n",
    "ba.reset()\n",
    "# now run the analysis iterator\n",
    "for _frame in ba:\n",
    "    print(ba.reps['com_frame'])\n",
    "    print(ba.reps['current_mda_frame'])\n",
    "    print(\" \")"
   ]
  },
  {
   "cell_type": "markdown",
   "metadata": {},
   "source": [
    "### Getting analysis data/output and showing plots\n",
    "\n",
    "Once the analysis loop has been run, data can be extracted from the analyzer and plots can be generated."
   ]
  },
  {
   "cell_type": "code",
   "execution_count": 18,
   "metadata": {
    "collapsed": false
   },
   "outputs": [
    {
     "name": "stdout",
     "output_type": "stream",
     "text": [
      "with plots:\n",
      "Plot msd_all for MSD analysis:['msd_1', 'msd_2', 'msd_3']\n",
      "Plot bt_p for bilayer thickness analysis: ['bt']\n",
      "[[  0.          22.55540831  22.55540831   0.        ]\n",
      " [  0.04888821  22.79126048  22.6733344    0.16677267]\n",
      " [  0.09777642  22.63935208  22.66200696   0.11954704]\n",
      " [  0.14666463  22.83583259  22.70546337   0.13069621]\n",
      " [  0.19555284  22.6149207   22.68735483   0.12021115]\n",
      " [  0.24444105  22.73748005  22.69570904   0.10945014]\n",
      " [  0.29332926  22.79117569  22.70934713   0.10622975]\n",
      " [  0.34221747  22.82845728  22.7242359    0.10698624]\n",
      " [  0.39110568  22.77410738  22.72977717   0.10144777]\n",
      " [  0.43999389  22.93033699  22.74983316   0.11476305]]\n"
     ]
    },
    {
     "data": {
      "image/png": "[encoded data removed]",
      "text/plain": [
       "<matplotlib.figure.Figure at 0x7f3bdf9a7a90>"
      ]
     },
     "metadata": {},
     "output_type": "display_data"
    }
   ],
   "source": [
    "ba.print_plot_protocol()\n",
    "#get the data for an analysis\n",
    "print(ba.get_analysis_data('bt'))\n",
    "#notebook magic\n",
    "%matplotlib inline\n",
    "# show a plot\n",
    "ba.show_plot('bt_p')"
   ]
  },
  {
   "cell_type": "code",
   "execution_count": null,
   "metadata": {
    "collapsed": true
   },
   "outputs": [],
   "source": []
  }
 ],
 "metadata": {
  "kernelspec": {
   "display_name": "Python 2",
   "language": "python",
   "name": "python2"
  },
  "language_info": {
   "codemirror_mode": {
    "name": "ipython",
    "version": 2
   },
   "file_extension": ".py",
   "mimetype": "text/x-python",
   "name": "python",
   "nbconvert_exporter": "python",
   "pygments_lexer": "ipython2",
   "version": "2.7.13"
  }
 },
 "nbformat": 4,
 "nbformat_minor": 2
}
